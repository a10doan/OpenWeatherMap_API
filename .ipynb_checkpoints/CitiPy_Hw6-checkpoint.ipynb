{
 "cells": [
  {
   "cell_type": "code",
   "execution_count": 204,
   "metadata": {},
   "outputs": [],
   "source": [
    "import json\n",
    "import pandas as pd\n",
    "from citipy import citipy\n",
    "from random import randint\n",
    "from datetime import datetime"
   ]
  },
  {
   "cell_type": "code",
   "execution_count": 154,
   "metadata": {
    "collapsed": true
   },
   "outputs": [],
   "source": [
    "#city.country_code"
   ]
  },
  {
   "cell_type": "code",
   "execution_count": 210,
   "metadata": {
    "collapsed": true
   },
   "outputs": [],
   "source": [
    "import matplotlib.pyplot as plt\n",
    "import requests as req\n",
    "import time\n"
   ]
  },
  {
   "cell_type": "code",
   "execution_count": 176,
   "metadata": {},
   "outputs": [],
   "source": [
    "# something = [('blue', 'red'), ('purple', 'green')]\n",
    "# something2 = ('purple', 'green')\n",
    "# if something2 not in something:\n",
    "#     something.append(something2)\n",
    "# print(something)\n",
    "# print(len(something))\n",
    "# some = ('bleep', 'bloop')"
   ]
  },
  {
   "cell_type": "code",
   "execution_count": 193,
   "metadata": {},
   "outputs": [
    {
     "name": "stdout",
     "output_type": "stream",
     "text": [
      "[('siguiri', 'gn')]\n"
     ]
    }
   ],
   "source": [
    "# city_ctrycode = []\n",
    "# city_list = []\n",
    "combined_list = []\n",
    "\n",
    "while len(combined_list) < 1:\n",
    "    #lat_range = random.sample(range(-90, 90), 1)\n",
    "    lat_range = randint(-90,90)\n",
    "    lng_range = randint(-180, 180)\n",
    "    city = citipy.nearest_city(lat_range, lng_range)\n",
    "    city_name = city.city_name\n",
    "    country_name = city.country_code\n",
    "    combined_ = (city_name, country_name)\n",
    "    if combined_ not in combined_list:\n",
    "        combined_list.append(combined_)\n",
    "#         city_list.append(city_name)\n",
    "#         city_ctrycode.append(country_name)\n",
    "# print(city_list)\n",
    "# print(city_ctrycode)\n",
    "print(combined_list)\n",
    "    "
   ]
  },
  {
   "cell_type": "code",
   "execution_count": 194,
   "metadata": {},
   "outputs": [],
   "source": [
    "# combined_dict = {}\n",
    "\n",
    "# while len(combined_dict) < 10:\n",
    "#     lat_range = randint(-90,90)\n",
    "#     lng_range = randint(-180, 180)\n",
    "#     city = citipy.nearest_city(lat_range, lng_range)\n",
    "#     city_name = city.city_name\n",
    "#     country_name = city.country_code\n",
    "#     #key, value = city_name, country_name\n",
    "#     if (city_name not in combined_dict.keys()) or (combined_dict[city_name] == country_name):\n",
    "#         combined_dict[city_name] = country_name\n",
    "\n",
    "# print(combined_dict)"
   ]
  },
  {
   "cell_type": "code",
   "execution_count": 195,
   "metadata": {},
   "outputs": [
    {
     "name": "stdout",
     "output_type": "stream",
     "text": [
      "['siguiri']\n",
      "['gn']\n"
     ]
    }
   ],
   "source": [
    "city_list, country_list = zip(*combined_list)\n",
    "city_list = list(city_list)\n",
    "country_list = list(country_list)\n",
    "print(city_list)\n",
    "print(country_list)"
   ]
  },
  {
   "cell_type": "code",
   "execution_count": 236,
   "metadata": {},
   "outputs": [
    {
     "name": "stdout",
     "output_type": "stream",
     "text": [
      "Collecting data on city #1: siguiri, gn\n",
      "Requested URL: http://api.openweathermap.org/data/2.5/weather?appid=520a1531cd2ce1c453e489ffd47eb034&q=siguiri%2Cgn&type=hour&start=1501145406&cnt=1\n",
      "{\n",
      "    \"base\": \"stations\",\n",
      "    \"clouds\": {\n",
      "        \"all\": 0\n",
      "    },\n",
      "    \"cod\": 200,\n",
      "    \"coord\": {\n",
      "        \"lat\": 11.42,\n",
      "        \"lon\": -9.17\n",
      "    },\n",
      "    \"dt\": 1512072728,\n",
      "    \"id\": 2415703,\n",
      "    \"main\": {\n",
      "        \"grnd_level\": 982.93,\n",
      "        \"humidity\": 40,\n",
      "        \"pressure\": 982.93,\n",
      "        \"sea_level\": 1026.26,\n",
      "        \"temp\": 297.297,\n",
      "        \"temp_max\": 297.297,\n",
      "        \"temp_min\": 297.297\n",
      "    },\n",
      "    \"name\": \"Siguiri\",\n",
      "    \"sys\": {\n",
      "        \"country\": \"GN\",\n",
      "        \"message\": 0.1685,\n",
      "        \"sunrise\": 1512024031,\n",
      "        \"sunset\": 1512065453\n",
      "    },\n",
      "    \"weather\": [\n",
      "        {\n",
      "            \"description\": \"clear sky\",\n",
      "            \"icon\": \"01n\",\n",
      "            \"id\": 800,\n",
      "            \"main\": \"Clear\"\n",
      "        }\n",
      "    ],\n",
      "    \"wind\": {\n",
      "        \"deg\": 79.5006,\n",
      "        \"speed\": 3.09\n",
      "    }\n",
      "}\n",
      "[11.42]\n",
      "[297.297]\n",
      "[40]\n",
      "[0]\n",
      "[3.09]\n"
     ]
    }
   ],
   "source": [
    "url = \"http://api.openweathermap.org/data/2.5/weather\"\n",
    "api_key = \"520a1531cd2ce1c453e489ffd47eb034\"\n",
    "\n",
    "time_str1 = \"Jul 27 01:50:06 +0000 2017\"\n",
    "\n",
    "converted_time1 = datetime.strptime(time_str1,\n",
    "                                    \"%b %d %H:%M:%S %z %Y\")\n",
    "\n",
    "start_unixtime = str(int(time.mktime(converted_time1.timetuple())))\n",
    "\n",
    "lat_data = []\n",
    "temp_data = []\n",
    "humid_data = []\n",
    "cloud_data = []\n",
    "wind_data = []\n",
    "number = 1\n",
    "for each_city, each_country in combined_list:\n",
    "    print(\"Collecting data on city #\" + str(number) + ': ' + str(each_city) + ', ' + str(each_country))\n",
    "    try:\n",
    "        params = {'appid': api_key,\n",
    "                  'q': each_city + ',' + each_country,\n",
    "                  'type': 'hour',\n",
    "                  'start': start_unixtime,\n",
    "                  'cnt': 1}\n",
    "    \n",
    "        weather_response = req.get(url, params)\n",
    "        print(\"Requested URL: \" + str(weather_response.url))\n",
    "        weather_json = weather_response.json()\n",
    "        lat_data.append(weather_json['coord']['lat'])\n",
    "        temp_data.append(weather_json['main']['temp'])\n",
    "        humid_data.append(weather_json['main']['humidity'])\n",
    "        cloud_data.append(weather_json['clouds']['all'])\n",
    "        wind_data.append(weather_json['wind']['speed'])\n",
    "    except:\n",
    "        print(\"Some part of the combined_list data is missing\")\n",
    "    number += 1\n",
    "    \n",
    "print(json.dumps(weather_json, indent=4, sort_keys=True))\n",
    "print(lat_data)\n",
    "print(temp_data)\n",
    "print(humid_data)\n",
    "print(cloud_data)\n",
    "print(wind_data)\n"
   ]
  },
  {
   "cell_type": "code",
   "execution_count": 217,
   "metadata": {},
   "outputs": [],
   "source": [
    "# time_str1 = \"Jul 27 03:05:06 +0000 2017\"\n",
    "# time_str2 = \"Jul 27 02:50:06 +0000 2017\"\n",
    "\n",
    "# converted_time1 = datetime.strptime(time_str1,\n",
    "#                                     \"%b %d %H:%M:%S %z %Y\")\n",
    "# converted_time2 = datetime.strptime(time_str2,\n",
    "#                                     \"%b %d %H:%M:%S %z %Y\")\n",
    "\n",
    "\n",
    "# print(converted_time1)"
   ]
  },
  {
   "cell_type": "code",
   "execution_count": 216,
   "metadata": {},
   "outputs": [],
   "source": [
    "# unixtime = int(time.mktime(converted_time1.timetuple()))\n",
    "# print(unixtime)"
   ]
  },
  {
   "cell_type": "code",
   "execution_count": null,
   "metadata": {},
   "outputs": [],
   "source": []
  },
  {
   "cell_type": "code",
   "execution_count": null,
   "metadata": {
    "collapsed": true
   },
   "outputs": [],
   "source": []
  }
 ],
 "metadata": {
  "kernelspec": {
   "display_name": "Python [conda env:PythonData]",
   "language": "python",
   "name": "conda-env-PythonData-py"
  },
  "language_info": {
   "codemirror_mode": {
    "name": "ipython",
    "version": 3
   },
   "file_extension": ".py",
   "mimetype": "text/x-python",
   "name": "python",
   "nbconvert_exporter": "python",
   "pygments_lexer": "ipython3",
   "version": "3.6.1"
  }
 },
 "nbformat": 4,
 "nbformat_minor": 2
}
